{
 "cells": [
  {
   "cell_type": "markdown",
   "metadata": {},
   "source": [
    "# Numpy"
   ]
  },
  {
   "cell_type": "markdown",
   "metadata": {},
   "source": [
    "Материалы:\n",
    "* Макрушин С.В. \"Лекция 1: Библиотека Numpy\"\n",
    "* https://numpy.org/doc/stable/user/index.html\n",
    "* https://numpy.org/doc/stable/reference/index.html"
   ]
  },
  {
   "cell_type": "markdown",
   "metadata": {},
   "source": [
    "## Задачи для совместного разбора"
   ]
  },
  {
   "cell_type": "markdown",
   "metadata": {},
   "source": [
    "1. Сгенерировать двухмерный массив `arr` размерности (4, 7), состоящий из случайных действительных чисел, равномерно распределенных в диапазоне от 0 до 20. Нормализовать значения массива с помощью преобразования вида  $𝑎𝑥+𝑏$  так, что после нормализации максимальный элемент масcива будет равен 1.0, минимальный 0.0"
   ]
  },
  {
   "cell_type": "code",
   "execution_count": 4,
   "metadata": {},
   "outputs": [
    {
     "name": "stdout",
     "output_type": "stream",
     "text": [
      "Исходный массив: [[12.29917286 15.64523494 18.09683809 12.80770281 18.74649447  0.23286292\n",
      "   1.88746263]\n",
      " [ 8.03470841  1.71993149  1.44572051  3.36014855  6.32047057 19.38670856\n",
      "   3.81235223]\n",
      " [18.13830187  0.67378768 15.41573827  8.51014737 18.474155   12.01215784\n",
      "  16.80641257]\n",
      " [16.34888078 18.45655561  5.33205584 10.83350658 18.85780795  5.32282563\n",
      "   9.63591729]]\n",
      "Нормализированный массив: [[-219.04992817 -279.79382269 -324.29984789 -228.28170237 -336.09360953\n",
      "     0.          -30.03734784]\n",
      " [-141.6334989   -26.99601333  -22.01802945  -56.77226072 -110.51348976\n",
      "  -347.71595742  -64.9814964 ]\n",
      " [-325.05257498   -8.00448003 -275.62757557 -150.26454434 -331.14960094\n",
      "  -213.83950192 -300.87366213]\n",
      " [-292.56770071 -330.83010418  -92.56996117 -192.44244875 -338.11437724\n",
      "   -92.40239744 -170.70159761]]\n"
     ]
    }
   ],
   "source": [
    "import numpy as np\n",
    "arr = np.random.uniform(0, 20, (4, 7)) #генерация случайного массива \n",
    "min_1 = np.min(arr)  #находим минимальное и максимальное значение \n",
    "max_1 = np.max(arr)\n",
    "\n",
    "a = 1.0 - (max_1 - min_1)\n",
    "b = -a * min_1\n",
    "normalized_arr = a * arr + b\n",
    "\n",
    "\n",
    "print(\"Исходный массив:\", arr)\n",
    "\n",
    "print(\"Нормализированный массив:\", normalized_arr)\n",
    "\n"
   ]
  },
  {
   "cell_type": "markdown",
   "metadata": {},
   "source": [
    "2. Создать матрицу 8 на 10 из случайных целых (используя модуль `numpy.random`) чисел из диапозона от 0 до 10 и найти в ней строку (ее индекс и вывести саму строку), в которой сумма значений минимальна."
   ]
  },
  {
   "cell_type": "code",
   "execution_count": 35,
   "metadata": {},
   "outputs": [
    {
     "name": "stdout",
     "output_type": "stream",
     "text": [
      "Матрица:  [[ 4  8  4  9  5  6  3  2  6  2]\n",
      " [ 2  7 10  5  6  3  7  6  1  5]\n",
      " [ 3  7  9  9  7  0  6  4  5  6]\n",
      " [ 6  1  2  0  3  7  2  8  8  0]\n",
      " [ 0  9  5  1  5 10  2  3  8  8]\n",
      " [ 4  3  5  8  6  7  8  6  1  5]\n",
      " [ 9  7  6  3  6  4  8  3  5  0]\n",
      " [ 1  4  6  9  6  8  5  2  7  4]]\n",
      "Строка с мин суммой:  [6 1 2 0 3 7 2 8 8 0]\n"
     ]
    }
   ],
   "source": [
    "matrix = np.random.randint(0,11, (8,10))\n",
    "row_index = np.argmin(np.sum(matrix, axis = 1))\n",
    "min_sum_row = matrix[row_index]\n",
    "print(\"Матрица: \",matrix)\n",
    "print(\"Строка с мин суммой: \", min_sum_row)"
   ]
  },
  {
   "cell_type": "markdown",
   "metadata": {},
   "source": [
    "3. Найти евклидово расстояние между двумя одномерными векторами одинаковой размерности."
   ]
  },
  {
   "cell_type": "markdown",
   "metadata": {},
   "source": [
    "4. Решить матричное уравнение `A*X*B=-C` - найти матрицу `X`. Где `A = [[-1, 2, 4], [-3, 1, 2], [-3, 0, 1]]`, `B=[[3, -1], [2, 1]]`, `C=[[7, 21], [11, 8], [8, 4]]`."
   ]
  },
  {
   "cell_type": "code",
   "execution_count": 40,
   "metadata": {},
   "outputs": [
    {
     "name": "stdout",
     "output_type": "stream",
     "text": [
      "Матрица X:\n",
      "[[ 1.00000000e+00  1.11022302e-15]\n",
      " [-2.00000000e+00  1.00000000e+00]\n",
      " [ 3.00000000e+00 -4.00000000e+00]]\n"
     ]
    }
   ],
   "source": [
    "A = np.array([[-1, 2, 4], [-3, 1, 2], [-3, 0, 1]])\n",
    "B = np.array([[3, -1], [2, 1]])\n",
    "C = np.array([[7, 21], [11, 8], [8, 4]])\n",
    "\n",
    "# Находим обратные матрицы A и B\n",
    "A_inv = np.linalg.inv(A)\n",
    "B_inv = np.linalg.inv(B)\n",
    "\n",
    "# Вычисляем матрицу X\n",
    "X = -np.dot(np.dot(A_inv, C), B_inv)\n",
    "\n",
    "print(\"Матрица X:\")\n",
    "print(X)\n"
   ]
  },
  {
   "cell_type": "markdown",
   "metadata": {},
   "source": [
    "## Лабораторная работа №1"
   ]
  },
  {
   "cell_type": "markdown",
   "metadata": {},
   "source": [
    "Замечание: при решении данных задач не подразумевается использования циклов или генераторов Python, если в задании не сказано обратного. Решение должно опираться на использования функционала библиотеки `numpy`."
   ]
  },
  {
   "cell_type": "markdown",
   "metadata": {},
   "source": [
    "1. Файл `minutes_n_ingredients.csv` содержит информацию об идентификаторе рецепта, времени его выполнения в минутах и количестве необходимых ингредиентов. Считайте данные из этого файла в виде массива `numpy` типа `int32`, используя `np.loadtxt`. Выведите на экран первые 5 строк массива."
   ]
  },
  {
   "cell_type": "code",
   "execution_count": 80,
   "metadata": {},
   "outputs": [
    {
     "name": "stdout",
     "output_type": "stream",
     "text": [
      "[[127244     60     16]\n",
      " [ 23891     25      7]\n",
      " [ 94746     10      6]\n",
      " [ 67660      5      6]\n",
      " [157911     60     14]]\n"
     ]
    }
   ],
   "source": [
    "import numpy as np\n",
    "\n",
    "a = np.loadtxt('minutes_n_ingredients.csv', delimiter=',', skiprows =1, dtype='int32')\n",
    "print(a[:5])"
   ]
  },
  {
   "cell_type": "markdown",
   "metadata": {},
   "source": [
    "2. Вычислите среднее значение, минимум, максимум и медиану по каждому из столбцов, кроме первого."
   ]
  },
  {
   "cell_type": "code",
   "execution_count": 81,
   "metadata": {},
   "outputs": [
    {
     "name": "stdout",
     "output_type": "stream",
     "text": [
      "Среднее значение по каждому столбцу, кроме первого: [2.16010017e+04 9.05528000e+00]\n",
      "Минимум по каждому столбцу, кроме первого: [0 1]\n",
      "Максимум по каждому столбцу, кроме первого: [2147483647         39]\n",
      "Медиана по каждому столбцу, кроме первого: [40.  9.]\n"
     ]
    }
   ],
   "source": [
    "\n",
    "mean_values = np.mean(a[:, 1:], axis=0) #среднее\n",
    "\n",
    "#  минимум\n",
    "min_values = np.min(a[:, 1:], axis=0)\n",
    "\n",
    "# макс\n",
    "max_values = np.max(a[:, 1:], axis=0)\n",
    "\n",
    "# медианы \n",
    "median_values = np.median(a[:, 1:], axis=0)\n",
    "\n",
    "print(\"Среднее значение по каждому столбцу, кроме первого:\", mean_values)\n",
    "print(\"Минимум по каждому столбцу, кроме первого:\", min_values)\n",
    "print(\"Максимум по каждому столбцу, кроме первого:\", max_values)\n",
    "print(\"Медиана по каждому столбцу, кроме первого:\", median_values)"
   ]
  },
  {
   "cell_type": "markdown",
   "metadata": {},
   "source": [
    "3. Ограничьте сверху значения продолжительности выполнения рецепта значением квантиля $q_{0.75}$. "
   ]
  },
  {
   "cell_type": "code",
   "execution_count": 82,
   "metadata": {},
   "outputs": [
    {
     "name": "stdout",
     "output_type": "stream",
     "text": [
      "[[60.]\n",
      " [25.]\n",
      " [10.]\n",
      " ...\n",
      " [65.]\n",
      " [ 5.]\n",
      " [65.]]\n"
     ]
    }
   ],
   "source": [
    "minutes_column = a[:,1:2]\n",
    "block = np.clip(minutes_column,0,np.quantile(minutes_column, 0.75))\n",
    "print(block)"
   ]
  },
  {
   "cell_type": "markdown",
   "metadata": {},
   "source": [
    "4. Посчитайте, для скольких рецептов указана продолжительность, равная нулю. Замените для таких строк значение в данном столбце на 1."
   ]
  },
  {
   "cell_type": "code",
   "execution_count": 83,
   "metadata": {},
   "outputs": [
    {
     "name": "stdout",
     "output_type": "stream",
     "text": [
      "479\n"
     ]
    }
   ],
   "source": [
    "count = np.count_nonzero(a[:, 1]==0)\n",
    "if count > 0:\n",
    "    a[:, 1] = np.where(a[:, 1]== 0 , 1, a[:, 1])\n",
    "print(count)"
   ]
  },
  {
   "cell_type": "markdown",
   "metadata": {},
   "source": [
    "5. Посчитайте, сколько уникальных рецептов находится в датасете."
   ]
  },
  {
   "cell_type": "code",
   "execution_count": 62,
   "metadata": {},
   "outputs": [
    {
     "name": "stdout",
     "output_type": "stream",
     "text": [
      "100000\n"
     ]
    }
   ],
   "source": [
    "un_rcps = np.unique(a[:, 0])\n",
    "num_un_rcps = len(un_rcps)\n",
    "print(num_un_rcps)"
   ]
  },
  {
   "cell_type": "markdown",
   "metadata": {},
   "source": [
    "6. Сколько и каких различных значений кол-ва ингредиентов присутвует в рецептах из датасета?"
   ]
  },
  {
   "cell_type": "code",
   "execution_count": 63,
   "metadata": {},
   "outputs": [
    {
     "name": "stdout",
     "output_type": "stream",
     "text": [
      "[ 1  2  3  4  5  6  7  8  9 10 11 12 13 14 15 16 17 18 19 20 21 22 23 24\n",
      " 25 26 27 28 29 30 31 32 33 34 35 37 39]\n"
     ]
    }
   ],
   "source": [
    "ingr = np.unique(a[:, 2])\n",
    "print(ingr)"
   ]
  },
  {
   "cell_type": "markdown",
   "metadata": {},
   "source": [
    "7. Создайте версию массива, содержащую информацию только о рецептах, состоящих не более чем из 5 ингредиентов."
   ]
  },
  {
   "cell_type": "code",
   "execution_count": 70,
   "metadata": {},
   "outputs": [
    {
     "name": "stdout",
     "output_type": "stream",
     "text": [
      "[[446597     15      5]\n",
      " [204134      5      3]\n",
      " [ 25623      6      4]\n",
      " ...\n",
      " [ 52088     60      5]\n",
      " [128811     15      4]\n",
      " [370915      5      4]]\n"
     ]
    }
   ],
   "source": [
    "print(a[a[:, 2]<= 5])"
   ]
  },
  {
   "cell_type": "markdown",
   "metadata": {},
   "source": [
    "8. Для каждого рецепта посчитайте, сколько в среднем ингредиентов приходится на одну минуту рецепта. Найдите максимальное значение этой величины для всего датасета"
   ]
  },
  {
   "cell_type": "code",
   "execution_count": 84,
   "metadata": {},
   "outputs": [
    {
     "name": "stdout",
     "output_type": "stream",
     "text": [
      "24.0\n"
     ]
    }
   ],
   "source": [
    "ingr_min = a[:, 2]/a[:,1]\n",
    "print(np.max(ingr_min))"
   ]
  },
  {
   "cell_type": "markdown",
   "metadata": {},
   "source": [
    "9. Вычислите среднее количество ингредиентов для топ-100 рецептов с наибольшей продолжительностью"
   ]
  },
  {
   "cell_type": "code",
   "execution_count": 72,
   "metadata": {},
   "outputs": [
    {
     "name": "stdout",
     "output_type": "stream",
     "text": [
      "6.61\n"
     ]
    }
   ],
   "source": [
    "top100_rcps = a[np.argsort(a[:, 1])[:: -1][:100]]\n",
    "print(np.mean(top100_rcps[:, 2]))"
   ]
  },
  {
   "cell_type": "markdown",
   "metadata": {},
   "source": [
    "10. Выберите случайным образом и выведите информацию о 10 различных рецептах"
   ]
  },
  {
   "cell_type": "markdown",
   "metadata": {},
   "source": [
    "11. Выведите процент рецептов, кол-во ингредиентов в которых меньше среднего."
   ]
  },
  {
   "cell_type": "markdown",
   "metadata": {},
   "source": [
    "12. Назовем \"простым\" такой рецепт, длительность выполнения которого не больше 20 минут и кол-во ингредиентов в котором не больше 5. Создайте версию датасета с дополнительным столбцом, значениями которого являются 1, если рецепт простой, и 0 в противном случае."
   ]
  },
  {
   "cell_type": "markdown",
   "metadata": {},
   "source": [
    "13. Выведите процент \"простых\" рецептов в датасете"
   ]
  },
  {
   "cell_type": "markdown",
   "metadata": {},
   "source": [
    "14. Разделим рецепты на группы по следующему правилу. Назовем рецепты короткими, если их продолжительность составляет менее 10 минут; стандартными, если их продолжительность составляет более 10, но менее 20 минут; и длинными, если их продолжительность составляет не менее 20 минут. Создайте трехмерный массив, где нулевая ось отвечает за номер группы (короткий, стандартный или длинный рецепт), первая ось - за сам рецепт и вторая ось - за характеристики рецепта. Выберите максимальное количество рецептов из каждой группы таким образом, чтобы было возможно сформировать трехмерный массив. Выведите форму полученного массива."
   ]
  },
  {
   "cell_type": "code",
   "execution_count": null,
   "metadata": {},
   "outputs": [],
   "source": []
  }
 ],
 "metadata": {
  "kernelspec": {
   "display_name": "Python 3 (ipykernel)",
   "language": "python",
   "name": "python3"
  },
  "language_info": {
   "codemirror_mode": {
    "name": "ipython",
    "version": 3
   },
   "file_extension": ".py",
   "mimetype": "text/x-python",
   "name": "python",
   "nbconvert_exporter": "python",
   "pygments_lexer": "ipython3",
   "version": "3.11.4"
  }
 },
 "nbformat": 4,
 "nbformat_minor": 4
}
